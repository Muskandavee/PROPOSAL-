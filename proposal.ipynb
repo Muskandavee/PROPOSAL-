{
 "cells": [
  {
   "cell_type": "markdown",
   "id": "a8e6aabd-2bee-40e3-9f67-4d1a2c925298",
   "metadata": {},
   "source": [
    "<font size=\"6\">*Predictive Modeling of Heart Disease using 11 Predictors*<font size=\"6\">\n",
    "\n",
    "***Introduction-***\n",
    "Cardiovascular diseases are the global cause of morality and they represent 31% of all worldwide deaths. Heart attacks and strokes are the leading cause of premature death.For individuals associated with such life threatening diseases, early detection becomes vital for improved quality of life,reduction in health costs and provides better treatment options. \n",
    "\n",
    "***Predictive Question-***\n",
    "Can age, resting blood pressure, maximum heart rate, and cholesterol levels accurately predict whether an individual has heart failure or not?\n",
    "    \n",
    "In the long run, detection will ensure effective treatment and thus lower mortality and improvement in global health. \n",
    "\n",
    "The data set which will be used is the Kaggle dataset  “Heart Failure Prediction”(https://www.kaggle.com/fedesoriano/heart-failure-prediction )\n",
    "which incorporates demographic, clinical, and laboratory data. Features like Age, Sex, ChestPain type, restingBP, Cholesterol, Maximum heart rate etc (mentioned in the link) will be our predictors. \n",
    "\n",
    "We have loaded the following packages into R to help with our analysis."
   ]
  },
  {
   "cell_type": "code",
   "execution_count": null,
   "id": "febffe18-7d4a-45d2-8804-87b95b44bbc8",
   "metadata": {
    "tags": []
   },
   "outputs": [],
   "source": [
    "library(tidyverse)\n",
    "library(repr)\n",
    "library(tidymodels)\n",
    "library(RColorBrewer)\n",
    "options(repr.matrix.mas.rows=5)"
   ]
  },
  {
   "cell_type": "markdown",
   "id": "6d4d9a62-f30d-44d7-a743-1d1803f5f19c",
   "metadata": {},
   "source": [
    "### <font size=\"6\">Preliminary Exploratory Data Analysis<font size=\"6\">\n",
    "    \n",
    "**Data Retrieval/wrangling and cleaning:** We used the URL from kaggle to read our data into R and and convert into a tidy format.\n"
   ]
  },
  {
   "cell_type": "code",
   "execution_count": null,
   "id": "f45db27b-bea3-4c3d-95c5-dd38c91b38e9",
   "metadata": {
    "tags": []
   },
   "outputs": [],
   "source": [
    "url<-\"https://raw.githubusercontent.com/Muskandavee/PROPOSAL-/main/heart.csv?token=GHSAT0AAAAAACIL7C5ONUF7EQO6NRJV2VSKZJ4MAEQ\""
   ]
  },
  {
   "cell_type": "code",
   "execution_count": null,
   "id": "7c73e473-fcf5-4798-8712-5f4f00d5b605",
   "metadata": {
    "tags": []
   },
   "outputs": [],
   "source": [
    "download.file(url, \"data/heart.csv\")\n",
    "heart_disease_data<-read_csv(\"data/heart.csv\")|>\n",
    "mutate(HeartDisease=as_factor(HeartDisease))|>\n",
    "rename(ST_depression=Oldpeak)|>\n",
    "mutate(HeartDisease=ifelse(HeartDisease==1, \"Yes\", \"No\"))|>\n",
    "select(-FastingBS)\n",
    "\n",
    "heart_disease_slice<-heart_disease_data|>\n",
    "slice(1:5)\n",
    "heart_disease_slice"
   ]
  },
  {
   "cell_type": "markdown",
   "id": "78247999-f025-4195-a0cd-d5e8c7b9c5d3",
   "metadata": {},
   "source": [
    "<font size=\"4\">**Creating a training data set:**<font size=\"4\">"
   ]
  },
  {
   "cell_type": "code",
   "execution_count": null,
   "id": "894da686-7430-4ff5-a7ee-848ca39df3c0",
   "metadata": {
    "tags": []
   },
   "outputs": [],
   "source": [
    "set.seed(1234)\n",
    "heart_disease_split <- initial_split(heart_disease_data, prop = 0.75, strata = HeartDisease)\n",
    "heart_disease_train <- training(heart_disease_split)\n",
    "heart_disease_test <- testing(heart_disease_split)\n",
    "\n",
    "heart_disease_slice_train<-heart_disease_train |>\n",
    "slice(1:5)\n",
    "heart_disease_slice_train"
   ]
  },
  {
   "cell_type": "markdown",
   "id": "cb8e36e5-5e14-4137-b261-9f765a5e5e23",
   "metadata": {},
   "source": [
    "<font size=\"4\"> **Creating a summary table:**<font size=\"4\"> \n",
    "    \n",
    "We have created a summary table that shows the mean values for all numeric columns and the number of observations under each column. There is no missing data in this data set. "
   ]
  },
  {
   "cell_type": "code",
   "execution_count": null,
   "id": "1c209fa3-4ca8-41c1-958a-21d732d66803",
   "metadata": {
    "tags": []
   },
   "outputs": [],
   "source": [
    "Number_of_observations<- colSums(!is.na(heart_disease_train))\n",
    "Mean_Age<- mean(heart_disease_train$Age, na.rm=TRUE)\n",
    "Mean_Restingbp <- mean(heart_disease_train$RestingBP, na.rm=TRUE)\n",
    "Mean_MaxHR <- mean(heart_disease_train$MaxHR, na.rm=TRUE)\n",
    "Mean_Cholesterol <- mean(heart_disease_train$Cholesterol, na.rm=TRUE)\n",
    "\n",
    "summary_stats <- rbind(Number_of_observations,tibble(Age = Mean_Age,\n",
    "Sex = NA,\n",
    "ChestPainType= NA,\n",
    "RestingBP =Mean_Restingbp,\n",
    "Cholesterol=  Mean_Cholesterol,\n",
    "RestingECG =  NA,\n",
    "MaxHR = Mean_MaxHR,\n",
    "ExerciseAngina=NA,\n",
    "ST_Slope= NA,\n",
    "HeartDisease=NA))\n",
    "row.names(summary_stats) <- c(\"Number of observations\" , \"Mean\")\n",
    "summary_stats\n",
    "\n",
    "\n",
    "num_missing_rows <- sum(!complete.cases(heart_disease_train))\n",
    "cat(\"The number of rows with missing data is\", num_missing_rows, \"\\n\")"
   ]
  },
  {
   "cell_type": "markdown",
   "id": "992267cd-9992-48fc-a120-3322aeff38f8",
   "metadata": {
    "tags": []
   },
   "source": [
    "<font size=\"4\">**Data Analysis Approach : Methods**<font size=\"4\">\n",
    "    \n",
    "We have decided to use classification in order to answer our predictive question as we are looking to find a predicted group (\"yes\" or \"no) and not a value. Hence we will not use regression.\n",
    "\n",
    "  **STEPS:**\n",
    "    \n",
    "**Picking variables-**\n",
    "    Not all variables are equally informative for predicting heart disease. We have evaluated the variables and decided to use Age, Sex, Resting Blood pressure and Max heart rate in our data analysis to predict heart failure.\n",
    "    \n",
    "**Scaling data-**\n",
    "    Standardize the selected predictor variables. k-NN is distance-based, so scaling the variables to have a similar range is crucial in order to avoid skewed results.\n",
    "\n",
    "**Select k Value-**\n",
    "    Determine the optimal value for the k parameter (number of neighbors to consider. We plan to use an odd number since we have 4 variables.\n",
    "\n",
    "**Visualizing classification results-**\n",
    "    We plan to visualise our data using a scatter plot. The reasons we chose scatter plots are to easily identify patterns,outliers, know insights about the data distribution etc. We will be using standardised data for the same. To check the accuracy of the classifier, confusion matrix will be implemented as it provides a concise and clear evaluation of for instance accuracy of of how the model is performing. Metrics such as precision and recall in the confusion matrix, allow further assembly of the model.\n",
    "Threshold Tunning and F1 score will also aid in effective prediction of the model.\n",
    "    \n",
    "\n",
    "    "
   ]
  },
  {
   "cell_type": "code",
   "execution_count": null,
   "id": "3eeeac5f-4666-4c13-b3aa-9c9f16a473f5",
   "metadata": {
    "tags": []
   },
   "outputs": [],
   "source": [
    "display.brewer.all(colorblindFriendly = TRUE)"
   ]
  },
  {
   "cell_type": "markdown",
   "id": "6e5c176c-ac5c-48a7-bfec-fec8de9d2666",
   "metadata": {},
   "source": [
    "<font size=\"4\">**DATA VISUALISATION OF TRAINING DATA**<font size=\"4\">\n",
    "    \n",
    "Now we are creating bar graphs, plotting our chosen predictor variables with whether the person has heart failure or not. This visualization will help us gain insights into how these variables are related to heart failure.\n",
    "\n"
   ]
  },
  {
   "cell_type": "code",
   "execution_count": null,
   "id": "c19ac7ad-fef6-45b1-9050-bd1fb9119d59",
   "metadata": {
    "tags": []
   },
   "outputs": [],
   "source": [
    "options(repr.plot.width = 6, repr.plot.height = 6)\n",
    "sex_plot<-heart_disease_train|>\n",
    "ggplot(aes(x=Sex, fill=HeartDisease))+\n",
    "geom_bar(position=\"fill\")+\n",
    "xlab(\"Male or Female\")+\n",
    "ylab(\"Does the person have heart disease\")+\n",
    "labs(\"Heart Disease\")+\n",
    "ggtitle(\"Proportions of male and female with heart disease\")+\n",
    "scale_color_brewer(palette = \"Set2\")\n",
    "sex_plot"
   ]
  },
  {
   "cell_type": "code",
   "execution_count": null,
   "id": "d032ed70-c2bf-4e21-b927-346ac93299a0",
   "metadata": {
    "tags": []
   },
   "outputs": [],
   "source": [
    "options(repr.plot.width = 6, repr.plot.height = 6)\n",
    "Resting_ECG_plot<-heart_disease_train|>\n",
    "ggplot(aes(x=RestingECG, fill=HeartDisease))+\n",
    "geom_bar(position=\"fill\")+\n",
    "xlab(\"Normal or Abnormal Resting ECG\")+\n",
    "ylab(\"Does the person have heart disease\")+\n",
    "labs(\"Heart Disease\")+\n",
    "ggtitle(\"Proportions of heart disease patients with normal or abnormal ECG\")\n",
    "Resting_ECG_plot"
   ]
  },
  {
   "cell_type": "code",
   "execution_count": null,
   "id": "d49bd50f-05e5-499d-97d5-f10b3087af72",
   "metadata": {
    "tags": []
   },
   "outputs": [],
   "source": [
    "options(repr.plot.width = 6, repr.plot.height = 6)\n",
    "Chest_pain_type_plot<-heart_disease_train|>\n",
    "ggplot(aes(x=ChestPainType, fill=HeartDisease))+\n",
    "geom_bar(position=\"fill\")+\n",
    "xlab(\"Types of Chest Pain\")+\n",
    "ylab(\"Does the person have heart disease\")+\n",
    "labs(\"Heart Disease\")+\n",
    "ggtitle(\"Proportions of Heart Disease within Chest Pain Type\")\n",
    "Chest_pain_type_plot"
   ]
  },
  {
   "cell_type": "code",
   "execution_count": null,
   "id": "c8811912-f0c5-41d8-9f5f-0207477ca94e",
   "metadata": {
    "tags": []
   },
   "outputs": [],
   "source": [
    "options(repr.plot.width = 6, repr.plot.height = 6)\n",
    "ST_Slope_plot<-heart_disease_train|>\n",
    "ggplot(aes(x=ST_Slope, fill=HeartDisease))+\n",
    "geom_bar(position=\"fill\")+\n",
    "xlab(\"ST slope on ECG of patients\")+\n",
    "ylab(\"Does the person have heart disease\")+\n",
    "labs(\"Heart Disease\")+\n",
    "ggtitle(\"Proportions of Heart Disease in Down, Flat and Up ST slopes\")\n",
    "ST_Slope_plot"
   ]
  },
  {
   "cell_type": "code",
   "execution_count": null,
   "id": "73248591-65ca-4a95-94b0-b95d6b4756f2",
   "metadata": {
    "tags": []
   },
   "outputs": [],
   "source": [
    "options(repr.plot.width = 6, repr.plot.height = 6)\n",
    "Exercise_Angina_plot<-heart_disease_train|>\n",
    "ggplot(aes(x=ExerciseAngina, fill=HeartDisease))+\n",
    "geom_bar(position=\"fill\")+\n",
    "xlab(\"Exercise Angina or Not\")+\n",
    "ylab(\"Does the person have heart disease\")+\n",
    "labs(\"Heart Disease\")+\n",
    "ggtitle(\"Proportions of Heart Disease Exercise and Non-Exercise Angina\")\n",
    "Exercise_Angina_plot"
   ]
  },
  {
   "cell_type": "code",
   "execution_count": null,
   "id": "a38236fa-f1a2-4980-b81b-76fae20bad88",
   "metadata": {
    "tags": []
   },
   "outputs": [],
   "source": [
    "options(repr.plot.width = 6, repr.plot.height = 6)\n",
    "Cholesterol_bloodpressure_plot<-heart_disease_train|>\n",
    "ggplot(aes(x=Cholesterol, y=RestingBP))+\n",
    "geom_point(aes(color=HeartDisease),alpha=0.4)+\n",
    "xlab(\"Cholesterol levels\")+\n",
    "ylab(\"Resting Blood Pressure\")+\n",
    "labs(\"Heart Disease\")+ scale_x_log10(labels = label_comma()) +\n",
    "  scale_y_log10(labels = label_comma())+\n",
    "ggtitle(\"Relationship between Cholesterol level and Resting Blood Pressure\")\n",
    "Cholesterol_bloodpressure_plot\n"
   ]
  },
  {
   "cell_type": "code",
   "execution_count": null,
   "id": "a82ed8d8-9d07-411e-afc2-1fbb33b9bb51",
   "metadata": {
    "tags": []
   },
   "outputs": [],
   "source": [
    "options(repr.plot.width = 6, repr.plot.height = 6)\n",
    "Age_RestingBP_plot<-heart_disease_train|>\n",
    "ggplot(aes(x=Age, y=RestingBP))+\n",
    "geom_point(aes(color=HeartDisease),alpha=0.4)+\n",
    "xlab(\"Age (in years)\")+\n",
    "ylab(\"Resting Blood Pressure\")+\n",
    "labs(\"Heart Disease\")+\n",
    "  scale_x_log10(labels = label_comma()) +\n",
    "  scale_y_log10(labels = label_comma())+\n",
    "ggtitle(\"Relationship between Age and Resting Blood Pressure\")\n",
    "Age_RestingBP_plot"
   ]
  },
  {
   "cell_type": "code",
   "execution_count": null,
   "id": "bc7ea7ff-7e3c-4103-8e8d-ec9900c473bb",
   "metadata": {
    "tags": []
   },
   "outputs": [],
   "source": [
    "options(repr.plot.width = 6, repr.plot.height = 6)\n",
    "Age_Cholesterol_plot<-heart_disease_train|>\n",
    "ggplot(aes(x=Age, y=Cholesterol))+\n",
    "geom_point(aes(color=HeartDisease),alpha=0.4)+\n",
    "xlab(\"Age (in years)\")+\n",
    "ylab(\"Cholesterol\")+\n",
    "labs(\"Heart Disease\")+\n",
    "  scale_x_log10(labels = label_comma()) +\n",
    "  scale_y_log10(labels = label_comma())+\n",
    "ggtitle(\"Relationship between Cholesterol level and Resting Blood Pressure\")\n",
    "Age_Cholesterol_plot"
   ]
  },
  {
   "cell_type": "markdown",
   "id": "264332bf-13f9-4ab5-b693-4fb348a4fe5f",
   "metadata": {},
   "source": [
    "<font size=\"5\">Expected Outcomes and Significance<font size=\"4\">\n",
    "    \n",
    "**Expected Findings:**\n",
    "    We anticipate a predictive model that offers accurate insights into heart disease likelihood taking into consideration our predictor variables. Our code will be able to predicte whether heart failure is \"yes\" or \"no\" depending on the trends observed between our predictor variables and heart failure results.\n",
    "\n",
    "**Significance:** \n",
    "    The model's findings can significantly impact public health by enabling early detection, potentially saving lives and reducing healthcare costs.\n",
    "    \n",
    "**Future Questions:**\n",
    "    This project may lead to further research on model refinement, additional predictors, or personalized risk assessment for heart disease to further improve accuracy of prediction.\n"
   ]
  },
  {
   "cell_type": "code",
   "execution_count": null,
   "id": "115bebd0-6c7a-49ec-b24b-47f26e4a0999",
   "metadata": {},
   "outputs": [],
   "source": []
  }
 ],
 "metadata": {
  "kernelspec": {
   "display_name": "R",
   "language": "R",
   "name": "ir"
  },
  "language_info": {
   "codemirror_mode": "r",
   "file_extension": ".r",
   "mimetype": "text/x-r-source",
   "name": "R",
   "pygments_lexer": "r",
   "version": "4.2.2"
  }
 },
 "nbformat": 4,
 "nbformat_minor": 5
}
